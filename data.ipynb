{
 "cells": [
  {
   "cell_type": "code",
   "execution_count": null,
   "metadata": {},
   "outputs": [],
   "source": [
    "from get_data import get_note_data \n",
    "import pandas as pd\n",
    "import make_models # for_passed_labels, for_one_label\n",
    "import tensorflow as tf\n",
    "from transformers import AutoTokenizer, TFAutoModelForSequenceClassification\n",
    "import numpy as np\n",
    "from tensorflow.keras.optimizers import Adam\n",
    "import multishot\n",
    "LABELS = [\"ABDOMINAL\",\n",
    "        \"ADVANCED-CAD\",\n",
    "        \"ALCOHOL-ABUSE\",\n",
    "        \"ASP-FOR-MI\",\n",
    "        \"CREATININE\",\n",
    "        \"DIETSUPP-2MOS\",\n",
    "        \"DRUG-ABUSE\",\n",
    "        \"ENGLISH\",\n",
    "        \"HBA1C\",\n",
    "        \"KETO-1YR\",\n",
    "        \"MAJOR-DIABETES\",\n",
    "        \"MAKES-DECISIONS\",\n",
    "        \"MI-6MOS\"]\n"
   ]
  },
  {
   "cell_type": "code",
   "execution_count": null,
   "metadata": {},
   "outputs": [],
   "source": [
    "patient_notes_data = get_note_data(LABELS, folder_name='test')\n",
    "patient_notes_data.sort_index().head()"
   ]
  },
  {
   "cell_type": "code",
   "execution_count": null,
   "metadata": {},
   "outputs": [],
   "source": [
    "# Example usage of make_models_for_labels\n",
    "# models = make_models.for_passed_labels(LABELS, make_models.for_one_label, get_note_data(LABELS), epochs=5, save=True)"
   ]
  },
  {
   "cell_type": "code",
   "execution_count": null,
   "metadata": {},
   "outputs": [],
   "source": [
    "loaded_models = {}\n",
    "for label in LABELS:\n",
    "    loaded_models[label] = (TFAutoModelForSequenceClassification.from_pretrained(f'{label}_model'), AutoTokenizer.from_pretrained(f'{label}_model'))\n",
    "print(loaded_models)\n",
    "    "
   ]
  },
  {
   "cell_type": "code",
   "execution_count": null,
   "metadata": {},
   "outputs": [],
   "source": [
    "def get_predictions(model, tokenizer, threshold=.5, verbose=True):\n",
    "    tokenized_notes = tokenizer(list(patient_notes_data[\"notes\"]), padding='max_length', max_length=512, truncation=True, return_tensors=\"tf\")\n",
    "    tokenized_data = dict(tokenized_notes)\n",
    "    model_predictions = model.predict(tokenized_data)\n",
    "    logits = model_predictions.logits\n",
    "    probabilities = tf.nn.softmax(logits)\n",
    "    list_probabilities = probabilities.numpy()\n",
    "    predictions = (list_probabilities[:,0] < threshold).astype(int).tolist()\n",
    "    return predictions\n",
    "\n",
    "# Example getting predictions:\n",
    "# label_to_predictions = {}\n",
    "# for label, model_tokenizer in loaded_models.items():\n",
    "#     print(f\"Predicting for model: f{label}\")\n",
    "#     label_to_predictions[label] = get_predictions(model_tokenizer[0], model_tokenizer[1])\n"
   ]
  },
  {
   "cell_type": "code",
   "execution_count": null,
   "metadata": {},
   "outputs": [],
   "source": [
    "def save_preds_and_acc(label_to_accuracy, label_to_predictions):\n",
    "    dfa = pd.DataFrame.from_dict(label_to_accuracy, orient='index', columns=['accuracy'])\n",
    "    dfp = pd.DataFrame.from_dict(label_to_predictions, orient='index')\n",
    "    dfa.to_csv(\"accuracies.csv\")\n",
    "    dfp.to_csv('predictions.csv')"
   ]
  },
  {
   "cell_type": "code",
   "execution_count": 23,
   "metadata": {},
   "outputs": [
    {
     "name": "stderr",
     "output_type": "stream",
     "text": [
      "C:\\Users\\nlabu\\AppData\\Local\\Temp\\ipykernel_3944\\2251726497.py:5: FutureWarning: Series.__getitem__ treating keys as positions is deprecated. In a future version, integer keys will always be treated as labels (consistent with DataFrame behavior). To access a value by position, use `ser.iloc[pos]`\n",
      "  label_to_predictions[row[0]] = list(row[1:])\n"
     ]
    }
   ],
   "source": [
    "# Read in prediction data:\n",
    "dfp = pd.read_csv('predictions.csv')\n",
    "label_to_predictions = {}\n",
    "for index, row in dfp.iterrows():\n",
    "    label_to_predictions[row[0]] = list(row[1:])"
   ]
  },
  {
   "cell_type": "code",
   "execution_count": 24,
   "metadata": {},
   "outputs": [],
   "source": [
    "def get_accuracy_from_preds(predictions, true_labels, verbose=True):\n",
    "    accuracy = np.mean(predictions == true_labels)\n",
    "    if verbose:\n",
    "        print(f\"{label} Accuracy: {accuracy}\")\n",
    "    return accuracy\n",
    "\n",
    "# Example getting accuracy from preds:\n",
    "# label_to_accuracy = {}\n",
    "# for label, predictions in label_to_predictions.items():\n",
    "#     true_labels = np.array(patient_notes_data[label])\n",
    "#     accuracy = get_accuracy_from_preds(predictions, true_labels)\n",
    "#     label_to_accuracy[label] = accuracy\n",
    "\n",
    "# Or:\n",
    "dfa = pd.read_csv('accuracies.csv')"
   ]
  },
  {
   "cell_type": "code",
   "execution_count": 25,
   "metadata": {},
   "outputs": [
    {
     "data": {
      "text/html": [
       "<div>\n",
       "<style scoped>\n",
       "    .dataframe tbody tr th:only-of-type {\n",
       "        vertical-align: middle;\n",
       "    }\n",
       "\n",
       "    .dataframe tbody tr th {\n",
       "        vertical-align: top;\n",
       "    }\n",
       "\n",
       "    .dataframe thead th {\n",
       "        text-align: right;\n",
       "    }\n",
       "</style>\n",
       "<table border=\"1\" class=\"dataframe\">\n",
       "  <thead>\n",
       "    <tr style=\"text-align: right;\">\n",
       "      <th></th>\n",
       "      <th>accuracy</th>\n",
       "    </tr>\n",
       "  </thead>\n",
       "  <tbody>\n",
       "    <tr>\n",
       "      <th>count</th>\n",
       "      <td>13.000000</td>\n",
       "    </tr>\n",
       "    <tr>\n",
       "      <th>mean</th>\n",
       "      <td>0.769231</td>\n",
       "    </tr>\n",
       "    <tr>\n",
       "      <th>std</th>\n",
       "      <td>0.185431</td>\n",
       "    </tr>\n",
       "    <tr>\n",
       "      <th>min</th>\n",
       "      <td>0.500000</td>\n",
       "    </tr>\n",
       "    <tr>\n",
       "      <th>25%</th>\n",
       "      <td>0.581395</td>\n",
       "    </tr>\n",
       "    <tr>\n",
       "      <th>50%</th>\n",
       "      <td>0.790698</td>\n",
       "    </tr>\n",
       "    <tr>\n",
       "      <th>75%</th>\n",
       "      <td>0.965116</td>\n",
       "    </tr>\n",
       "    <tr>\n",
       "      <th>max</th>\n",
       "      <td>1.000000</td>\n",
       "    </tr>\n",
       "  </tbody>\n",
       "</table>\n",
       "</div>"
      ],
      "text/plain": [
       "        accuracy\n",
       "count  13.000000\n",
       "mean    0.769231\n",
       "std     0.185431\n",
       "min     0.500000\n",
       "25%     0.581395\n",
       "50%     0.790698\n",
       "75%     0.965116\n",
       "max     1.000000"
      ]
     },
     "execution_count": 25,
     "metadata": {},
     "output_type": "execute_result"
    }
   ],
   "source": [
    "dfa.describe()"
   ]
  },
  {
   "cell_type": "code",
   "execution_count": null,
   "metadata": {},
   "outputs": [],
   "source": []
  }
 ],
 "metadata": {
  "kernelspec": {
   "display_name": "Python 3 (ipykernel)",
   "language": "python",
   "name": "python3"
  },
  "language_info": {
   "codemirror_mode": {
    "name": "ipython",
    "version": 3
   },
   "file_extension": ".py",
   "mimetype": "text/x-python",
   "name": "python",
   "nbconvert_exporter": "python",
   "pygments_lexer": "ipython3",
   "version": "3.10.13"
  }
 },
 "nbformat": 4,
 "nbformat_minor": 4
}
