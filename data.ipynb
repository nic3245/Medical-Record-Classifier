{
 "cells": [
  {
   "cell_type": "code",
   "execution_count": 9,
   "metadata": {},
   "outputs": [],
   "source": [
    "import pandas as pd\n",
    "import os\n",
    "import xml.etree.ElementTree as ET"
   ]
  },
  {
   "cell_type": "code",
   "execution_count": 13,
   "metadata": {},
   "outputs": [
    {
     "data": {
      "text/plain": [
       "(202, 18)"
      ]
     },
     "execution_count": 13,
     "metadata": {},
     "output_type": "execute_result"
    }
   ],
   "source": [
    "overall_df = pd.DataFrame(columns=[\"note1\", \"note2\", \"note3\", \"note4\", \"note5\", \"ABDOMINAL\",\n",
    "\"ADVANCED-CAD\",\n",
    "\"ALCOHOL-ABUSE\",\n",
    "\"ASP-FOR-MI\",\n",
    "\"CREATININE\",\n",
    "\"DIETSUPP-2MOS\",\n",
    "\"DRUG-ABUSE\",\n",
    "\"ENGLISH\",\n",
    "\"HBA1C\",\n",
    "\"KETO-1YR\",\n",
    "\"MAJOR-DIABETES\",\n",
    "\"MAKES-DECISIONS\",\n",
    "\"MI-6MOS\"])\n",
    "\n",
    "current_directory = os.getcwd()\n",
    "folder_name = 'train'\n",
    "directory = os.path.join(current_directory, folder_name)\n",
    "for filename in os.listdir(directory):\n",
    "    if os.path.isfile(os.path.join(directory, filename)):\n",
    "        patient_num = os.path.splitext(filename)[0]\n",
    "        row_to_add = {}\n",
    "        # Load the XML file\n",
    "        tree = ET.parse(os.path.join(directory, filename))\n",
    "        root = tree.getroot()\n",
    "        # Access elements and attributes\n",
    "        for child in root:\n",
    "            if child.tag == \"TEXT\":\n",
    "                notes = child.text.split(\"****************************************************************************************************\")\n",
    "                notes = [note.strip() for note in notes if note.strip()]\n",
    "                i = 1\n",
    "                for note in notes:\n",
    "                    row_to_add[f\"note{i}\"] = note\n",
    "                    i += 1\n",
    "                for j in range(i, 6):\n",
    "                    row_to_add[f\"note{j}\"] = \"\"\n",
    "            if child.tag == \"TAGS\":\n",
    "                for subchild in child:\n",
    "                    row_to_add[subchild.tag] = 1 if subchild.attrib.get('met') == 'met' else 0\n",
    "        overall_df.loc[patient_num] = row_to_add\n",
    "\n",
    "overall_df.head(5)\n",
    "        \n",
    "\n",
    "\n"
   ]
  },
  {
   "cell_type": "code",
   "execution_count": null,
   "metadata": {},
   "outputs": [],
   "source": [
    "import nltk\n",
    "from nltk.corpus import stopwords\n",
    "import re\n",
    "nltk.download('stopwords')\n",
    "stop_words = set(stopwords.words('english'))\n",
    "\n",
    "def tokenize_data(note):\n",
    "    pattern = r\"[\\n\\.]\"\n",
    "    # Split the text into sentences\n",
    "    sentences = re.split(pattern, note.lower())\n",
    "    # Split the text into tokens\n",
    "    tokens = nltk.word_tokenize(sentences)\n",
    "    # Remove stop words\n",
    "    filtered_tokens = [token for token in tokens if token not in stop_words]\n",
    "    final_string = [''.join(words) for words in filtered_tokens]\n",
    "    return final_string"
   ]
  }
 ],
 "metadata": {
  "kernelspec": {
   "display_name": "base",
   "language": "python",
   "name": "python3"
  },
  "language_info": {
   "codemirror_mode": {
    "name": "ipython",
    "version": 3
   },
   "file_extension": ".py",
   "mimetype": "text/x-python",
   "name": "python",
   "nbconvert_exporter": "python",
   "pygments_lexer": "ipython3",
   "version": "3.10.13"
  }
 },
 "nbformat": 4,
 "nbformat_minor": 2
}
