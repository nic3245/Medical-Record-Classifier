{
 "cells": [
  {
   "cell_type": "markdown",
   "metadata": {},
   "source": [
    "# LR w/ClinicalBERT embeddings for baseline performance"
   ]
  },
  {
   "cell_type": "code",
   "execution_count": 1,
   "metadata": {},
   "outputs": [
    {
     "name": "stderr",
     "output_type": "stream",
     "text": [
      "c:\\Users\\nlabu\\anaconda3\\envs\\tfenv\\lib\\site-packages\\tqdm\\auto.py:21: TqdmWarning: IProgress not found. Please update jupyter and ipywidgets. See https://ipywidgets.readthedocs.io/en/stable/user_install.html\n",
      "  from .autonotebook import tqdm as notebook_tqdm\n",
      "c:\\Users\\nlabu\\anaconda3\\envs\\tfenv\\lib\\site-packages\\transformers\\utils\\generic.py:441: UserWarning: torch.utils._pytree._register_pytree_node is deprecated. Please use torch.utils._pytree.register_pytree_node instead.\n",
      "  _torch_pytree._register_pytree_node(\n"
     ]
    }
   ],
   "source": [
    "import utils\n",
    "import tensorflow as tf\n",
    "import numpy as np\n",
    "from transformers import AutoTokenizer\n",
    "import model_helpers\n",
    "LABELS = [\"ABDOMINAL\",\n",
    "        \"ADVANCED-CAD\",\n",
    "        \"ALCOHOL-ABUSE\",\n",
    "        \"ASP-FOR-MI\",\n",
    "        \"CREATININE\",\n",
    "        \"DIETSUPP-2MOS\",\n",
    "        \"DRUG-ABUSE\",\n",
    "        \"ENGLISH\",\n",
    "        \"HBA1C\",\n",
    "        \"KETO-1YR\",\n",
    "        \"MAJOR-DIABETES\",\n",
    "        \"MAKES-DECISIONS\",\n",
    "        \"MI-6MOS\"]"
   ]
  },
  {
   "cell_type": "code",
   "execution_count": 2,
   "metadata": {},
   "outputs": [],
   "source": [
    "# Both will be dataframes with a 'notes' column and a column for each label\n",
    "train_data = utils.get_note_data(LABELS, folder_name='train')\n",
    "test_data = utils.get_note_data(LABELS, folder_name='test')"
   ]
  },
  {
   "cell_type": "code",
   "execution_count": null,
   "metadata": {},
   "outputs": [],
   "source": [
    "# Load tokenizer\n",
    "tokenizer = AutoTokenizer.from_pretrained(\"emilyalsentzer/Bio_ClinicalBERT\")\n",
    "\n",
    "# Tokenize text\n",
    "encoded_input = tokenizer(train_data['notes'], return_tensors='tf')\n",
    "\n",
    "# Get word embeddings\n",
    "word_embeddings = encoded_input['input_ids'].numpy()\n",
    "\n",
    "# Flatten the word embeddings - one input vector per sequence\n",
    "flattened_embeddings = np.mean(word_embeddings, axis=1)\n",
    "\n",
    "models = {}\n",
    "for label in LABELS:\n",
    "    # Define logistic regression model\n",
    "    logistic_regression_model = tf.keras.Sequential([\n",
    "        tf.keras.layers.Dense(1, activation='sigmoid', input_shape=(flattened_embeddings.shape[1],))\n",
    "    ])\n",
    "\n",
    "    # Compile the model\n",
    "    logistic_regression_model.compile(optimizer='adam', loss='binary_crossentropy', metrics=['accuracy'])\n",
    "\n",
    "    # Train the model\n",
    "    logistic_regression_model.fit(flattened_embeddings, train_data[label], epochs=5)\n",
    "\n",
    "    models[label] = logistic_regression_model\n",
    "\n"
   ]
  },
  {
   "cell_type": "code",
   "execution_count": null,
   "metadata": {},
   "outputs": [
    {
     "name": "stdout",
     "output_type": "stream",
     "text": [
      "Predicting for model: ABDOMINAL\n",
      "3/3 [==============================] - 63s 20s/step\n",
      "[[0.2414437 ]\n",
      " [0.15770328]\n",
      " [0.2840973 ]\n",
      " [0.14279576]\n",
      " [0.23869914]\n",
      " [0.197795  ]\n",
      " [0.26773468]\n",
      " [0.15957266]\n",
      " [0.23185757]\n",
      " [0.24648981]\n",
      " [0.19184572]\n",
      " [0.2231623 ]\n",
      " [0.1649169 ]\n",
      " [0.23290344]\n",
      " [0.20445669]\n",
      " [0.20872465]\n",
      " [0.15718919]\n",
      " [0.21298273]\n",
      " [0.16097684]\n",
      " [0.19958724]\n",
      " [0.20998082]\n",
      " [0.18410239]\n",
      " [0.17957325]\n",
      " [0.16367117]\n",
      " [0.26657534]\n",
      " [0.30540603]\n",
      " [0.16570383]\n",
      " [0.14840782]\n",
      " [0.24877639]\n",
      " [0.26570857]\n",
      " [0.2948003 ]\n",
      " [0.23967612]\n",
      " [0.18088737]\n",
      " [0.18813384]\n",
      " [0.28471982]\n",
      " [0.18206395]\n",
      " [0.17414749]\n",
      " [0.20830086]\n",
      " [0.24213487]\n",
      " [0.20787425]\n",
      " [0.22716814]\n",
      " [0.15660971]\n",
      " [0.23418112]\n",
      " [0.15611242]\n",
      " [0.29636976]\n",
      " [0.15414767]\n",
      " [0.21193619]\n",
      " [0.21650712]\n",
      " [0.16983722]\n",
      " [0.18683328]\n",
      " [0.16694435]\n",
      " [0.23897076]\n",
      " [0.2077289 ]\n",
      " [0.21732768]\n",
      " [0.15772642]\n",
      " [0.21203758]\n",
      " [0.18335319]\n",
      " [0.2559509 ]\n",
      " [0.2224181 ]\n",
      " [0.27251002]\n",
      " [0.19017339]\n",
      " [0.20210706]\n",
      " [0.25041097]\n",
      " [0.1911733 ]\n",
      " [0.1631854 ]\n",
      " [0.21375366]\n",
      " [0.19509749]\n",
      " [0.26186112]\n",
      " [0.25060195]\n",
      " [0.1659717 ]\n",
      " [0.18793544]\n",
      " [0.15455277]\n",
      " [0.25842068]\n",
      " [0.18990749]\n",
      " [0.2516687 ]\n",
      " [0.25441667]\n",
      " [0.24153934]\n",
      " [0.15487853]\n",
      " [0.26015538]\n",
      " [0.17549828]\n",
      " [0.25118986]\n",
      " [0.18228397]\n",
      " [0.19383742]\n",
      " [0.23098429]\n",
      " [0.22071849]\n",
      " [0.23693219]]\n",
      "[[0.56006944]\n",
      " [0.53934425]\n",
      " [0.57055044]\n",
      " [0.5356384 ]\n",
      " [0.55939305]\n",
      " [0.54928815]\n",
      " [0.5665367 ]\n",
      " [0.5398087 ]\n",
      " [0.5577061 ]\n",
      " [0.5613123 ]\n",
      " [0.54781485]\n",
      " [0.5555602 ]\n",
      " [0.541136  ]\n",
      " [0.5579641 ]\n",
      " [0.5509369 ]\n",
      " [0.5519925 ]\n",
      " [0.5392165 ]\n",
      " [0.55304533]\n",
      " [0.54015756]\n",
      " [0.54973185]\n",
      " [0.55230314]\n",
      " [0.54589605]\n",
      " [0.54477304]\n",
      " [0.5408267 ]\n",
      " [0.566252  ]\n",
      " [0.5757635 ]\n",
      " [0.5413314 ]\n",
      " [0.537034  ]\n",
      " [0.5618753 ]\n",
      " [0.5660391 ]\n",
      " [0.5731709 ]\n",
      " [0.55963385]\n",
      " [0.5450989 ]\n",
      " [0.5468952 ]\n",
      " [0.57070297]\n",
      " [0.5453907 ]\n",
      " [0.54342717]\n",
      " [0.55188775]\n",
      " [0.56023973]\n",
      " [0.55178225]\n",
      " [0.5565491 ]\n",
      " [0.53907263]\n",
      " [0.55827916]\n",
      " [0.538949  ]\n",
      " [0.5735548 ]\n",
      " [0.53846073]\n",
      " [0.5527866 ]\n",
      " [0.55391634]\n",
      " [0.5423575 ]\n",
      " [0.546573  ]\n",
      " [0.54163945]\n",
      " [0.55946004]\n",
      " [0.5517463 ]\n",
      " [0.5541191 ]\n",
      " [0.53935003]\n",
      " [0.5528117 ]\n",
      " [0.5457103 ]\n",
      " [0.56364065]\n",
      " [0.5553764 ]\n",
      " [0.56770897]\n",
      " [0.5474006 ]\n",
      " [0.5503555 ]\n",
      " [0.5622777 ]\n",
      " [0.5476483 ]\n",
      " [0.54070604]\n",
      " [0.5532359 ]\n",
      " [0.5486203 ]\n",
      " [0.56509376]\n",
      " [0.56232464]\n",
      " [0.541398  ]\n",
      " [0.5468461 ]\n",
      " [0.53856146]\n",
      " [0.564248  ]\n",
      " [0.5473347 ]\n",
      " [0.56258714]\n",
      " [0.5632633 ]\n",
      " [0.5600929 ]\n",
      " [0.5386424 ]\n",
      " [0.5646745 ]\n",
      " [0.5437623 ]\n",
      " [0.56246936]\n",
      " [0.5454452 ]\n",
      " [0.5483082 ]\n",
      " [0.5574907 ]\n",
      " [0.5549567 ]\n",
      " [0.5589575 ]]\n"
     ]
    }
   ],
   "source": [
    "label_to_predictions = {}\n",
    "for label, model in models.items():\n",
    "    print(f\"Predicting for model: {label}\")\n",
    "    label_to_predictions[label] = model_helpers.get_predictions(model, test_data)\n"
   ]
  },
  {
   "cell_type": "markdown",
   "metadata": {},
   "source": [
    "Save predictions and load predictions here if wanted."
   ]
  },
  {
   "cell_type": "code",
   "execution_count": null,
   "metadata": {},
   "outputs": [],
   "source": [
    "utils.save_preds(label_to_predictions, \"LR_predictions\")"
   ]
  },
  {
   "cell_type": "code",
   "execution_count": null,
   "metadata": {},
   "outputs": [
    {
     "name": "stderr",
     "output_type": "stream",
     "text": [
      "C:\\Users\\nlabu\\AppData\\Local\\Temp\\ipykernel_12508\\2251726497.py:5: FutureWarning: Series.__getitem__ treating keys as positions is deprecated. In a future version, integer keys will always be treated as labels (consistent with DataFrame behavior). To access a value by position, use `ser.iloc[pos]`\n",
      "  label_to_predictions[row[0]] = list(row[1:])\n"
     ]
    }
   ],
   "source": [
    "label_to_predictions = utils.read_preds(\"LR_predictions\")"
   ]
  },
  {
   "cell_type": "markdown",
   "metadata": {},
   "source": [
    "### Performance:"
   ]
  },
  {
   "cell_type": "code",
   "execution_count": null,
   "metadata": {},
   "outputs": [
    {
     "name": "stdout",
     "output_type": "stream",
     "text": [
      "overall-f1: nan\n"
     ]
    },
    {
     "name": "stderr",
     "output_type": "stream",
     "text": [
      "c:\\Users\\nlabu\\anaconda3\\envs\\tfenv\\lib\\site-packages\\numpy\\core\\fromnumeric.py:3504: RuntimeWarning: Mean of empty slice.\n",
      "  return _methods._mean(a, axis=axis, dtype=dtype,\n",
      "c:\\Users\\nlabu\\anaconda3\\envs\\tfenv\\lib\\site-packages\\numpy\\core\\_methods.py:129: RuntimeWarning: invalid value encountered in scalar divide\n",
      "  ret = ret.dtype.type(ret / rcount)\n"
     ]
    }
   ],
   "source": [
    "label_to_micro_f1, overall_f1 = utils.get_f1_scores_for_labels(LABELS, test_data, label_to_predictions)\n",
    "print('overall-f1:', overall_f1)"
   ]
  }
 ],
 "metadata": {
  "kernelspec": {
   "display_name": "tfenv",
   "language": "python",
   "name": "python3"
  },
  "language_info": {
   "codemirror_mode": {
    "name": "ipython",
    "version": 3
   },
   "file_extension": ".py",
   "mimetype": "text/x-python",
   "name": "python",
   "nbconvert_exporter": "python",
   "pygments_lexer": "ipython3",
   "version": "3.10.13"
  }
 },
 "nbformat": 4,
 "nbformat_minor": 2
}
