{
 "cells": [
  {
   "cell_type": "markdown",
   "metadata": {},
   "source": [
    "# LR w/ClinicalBERT embeddings for baseline performance"
   ]
  },
  {
   "cell_type": "markdown",
   "metadata": {},
   "source": [
    "#### Necessary Imports\n",
    "Please use:  \n",
    "pip install pandas tensorflow transformers numpy nltk matplotlib openai  \n",
    "If you do not have any of the packages  \n",
    "Please use Python 3.10.13.  \n",
    "An easy way to achieve all of this is with anaconda - create an environment with python 3.10.13 and all of the necessary packages.  \n",
    "```conda create -n env-name python=3.10 tensorflow transformers numpy pandas nltk matplotlib openai```  \n",
    "Make sure env-name is selected as the environment when running the notebook."
   ]
  },
  {
   "cell_type": "code",
   "execution_count": null,
   "metadata": {},
   "outputs": [],
   "source": [
    "import utils\n",
    "from transformers import AutoTokenizer\n",
    "LABELS = [\"ABDOMINAL\",\n",
    "        \"ADVANCED-CAD\",\n",
    "        \"ALCOHOL-ABUSE\",\n",
    "        \"ASP-FOR-MI\",\n",
    "        \"CREATININE\",\n",
    "        \"DIETSUPP-2MOS\",\n",
    "        \"DRUG-ABUSE\",\n",
    "        \"ENGLISH\",\n",
    "        \"HBA1C\",\n",
    "        \"KETO-1YR\",\n",
    "        \"MAJOR-DIABETES\",\n",
    "        \"MAKES-DECISIONS\",\n",
    "        \"MI-6MOS\"]"
   ]
  },
  {
   "cell_type": "code",
   "execution_count": 23,
   "metadata": {},
   "outputs": [],
   "source": [
    "def get_word_embeddings(data):\n",
    "    # Load tokenizer\n",
    "    tokenizer = AutoTokenizer.from_pretrained(\"emilyalsentzer/Bio_ClinicalBERT\")\n",
    "\n",
    "    # Tokenize text\n",
    "    clinical_notes = [utils.tokenize_data(note) for note in list(data['notes'])]\n",
    "    tokenized_notes = tokenizer(clinical_notes, padding='max_length', max_length=512, truncation=True, return_tensors=\"tf\")\n",
    "\n",
    "    # Get word embeddings\n",
    "    word_embeddings = tokenized_notes['input_ids'].numpy()\n",
    "\n",
    "    return word_embeddings"
   ]
  },
  {
   "cell_type": "markdown",
   "metadata": {},
   "source": [
    "### Retrieving Data"
   ]
  },
  {
   "cell_type": "code",
   "execution_count": 24,
   "metadata": {},
   "outputs": [
    {
     "data": {
      "text/html": [
       "<div>\n",
       "<style scoped>\n",
       "    .dataframe tbody tr th:only-of-type {\n",
       "        vertical-align: middle;\n",
       "    }\n",
       "\n",
       "    .dataframe tbody tr th {\n",
       "        vertical-align: top;\n",
       "    }\n",
       "\n",
       "    .dataframe thead th {\n",
       "        text-align: right;\n",
       "    }\n",
       "</style>\n",
       "<table border=\"1\" class=\"dataframe\">\n",
       "  <thead>\n",
       "    <tr style=\"text-align: right;\">\n",
       "      <th></th>\n",
       "      <th>notes</th>\n",
       "      <th>ABDOMINAL</th>\n",
       "      <th>ADVANCED-CAD</th>\n",
       "      <th>ALCOHOL-ABUSE</th>\n",
       "      <th>ASP-FOR-MI</th>\n",
       "      <th>CREATININE</th>\n",
       "      <th>DIETSUPP-2MOS</th>\n",
       "      <th>DRUG-ABUSE</th>\n",
       "      <th>ENGLISH</th>\n",
       "      <th>HBA1C</th>\n",
       "      <th>KETO-1YR</th>\n",
       "      <th>MAJOR-DIABETES</th>\n",
       "      <th>MAKES-DECISIONS</th>\n",
       "      <th>MI-6MOS</th>\n",
       "    </tr>\n",
       "  </thead>\n",
       "  <tbody>\n",
       "    <tr>\n",
       "      <th>162</th>\n",
       "      <td>\\n\\nRecord date: 2068-02-04\\n\\nASSOCIATED ARTH...</td>\n",
       "      <td>1</td>\n",
       "      <td>1</td>\n",
       "      <td>0</td>\n",
       "      <td>1</td>\n",
       "      <td>0</td>\n",
       "      <td>0</td>\n",
       "      <td>0</td>\n",
       "      <td>1</td>\n",
       "      <td>0</td>\n",
       "      <td>0</td>\n",
       "      <td>0</td>\n",
       "      <td>1</td>\n",
       "      <td>0</td>\n",
       "    </tr>\n",
       "    <tr>\n",
       "      <th>176</th>\n",
       "      <td>\\n\\nRecord date: 2085-04-22\\n\\n \\nThis patient...</td>\n",
       "      <td>1</td>\n",
       "      <td>0</td>\n",
       "      <td>1</td>\n",
       "      <td>0</td>\n",
       "      <td>0</td>\n",
       "      <td>1</td>\n",
       "      <td>0</td>\n",
       "      <td>1</td>\n",
       "      <td>0</td>\n",
       "      <td>0</td>\n",
       "      <td>0</td>\n",
       "      <td>1</td>\n",
       "      <td>0</td>\n",
       "    </tr>\n",
       "    <tr>\n",
       "      <th>189</th>\n",
       "      <td>\\n\\nRecord date: 2090-07-07\\n\\nWillow Gardens ...</td>\n",
       "      <td>0</td>\n",
       "      <td>1</td>\n",
       "      <td>0</td>\n",
       "      <td>1</td>\n",
       "      <td>1</td>\n",
       "      <td>1</td>\n",
       "      <td>0</td>\n",
       "      <td>1</td>\n",
       "      <td>1</td>\n",
       "      <td>0</td>\n",
       "      <td>1</td>\n",
       "      <td>1</td>\n",
       "      <td>0</td>\n",
       "    </tr>\n",
       "    <tr>\n",
       "      <th>214</th>\n",
       "      <td>\\n\\nRecord date: 2096-07-15\\n\\n\\n\\nResults01/3...</td>\n",
       "      <td>0</td>\n",
       "      <td>1</td>\n",
       "      <td>0</td>\n",
       "      <td>1</td>\n",
       "      <td>0</td>\n",
       "      <td>1</td>\n",
       "      <td>0</td>\n",
       "      <td>0</td>\n",
       "      <td>1</td>\n",
       "      <td>0</td>\n",
       "      <td>0</td>\n",
       "      <td>1</td>\n",
       "      <td>1</td>\n",
       "    </tr>\n",
       "    <tr>\n",
       "      <th>200</th>\n",
       "      <td>\\n\\nRecord date: 2170-02-17\\n\\n \\n\\nReason for...</td>\n",
       "      <td>1</td>\n",
       "      <td>0</td>\n",
       "      <td>0</td>\n",
       "      <td>1</td>\n",
       "      <td>0</td>\n",
       "      <td>1</td>\n",
       "      <td>0</td>\n",
       "      <td>1</td>\n",
       "      <td>0</td>\n",
       "      <td>0</td>\n",
       "      <td>1</td>\n",
       "      <td>1</td>\n",
       "      <td>0</td>\n",
       "    </tr>\n",
       "  </tbody>\n",
       "</table>\n",
       "</div>"
      ],
      "text/plain": [
       "                                                 notes  ABDOMINAL  \\\n",
       "162  \\n\\nRecord date: 2068-02-04\\n\\nASSOCIATED ARTH...          1   \n",
       "176  \\n\\nRecord date: 2085-04-22\\n\\n \\nThis patient...          1   \n",
       "189  \\n\\nRecord date: 2090-07-07\\n\\nWillow Gardens ...          0   \n",
       "214  \\n\\nRecord date: 2096-07-15\\n\\n\\n\\nResults01/3...          0   \n",
       "200  \\n\\nRecord date: 2170-02-17\\n\\n \\n\\nReason for...          1   \n",
       "\n",
       "     ADVANCED-CAD  ALCOHOL-ABUSE  ASP-FOR-MI  CREATININE  DIETSUPP-2MOS  \\\n",
       "162             1              0           1           0              0   \n",
       "176             0              1           0           0              1   \n",
       "189             1              0           1           1              1   \n",
       "214             1              0           1           0              1   \n",
       "200             0              0           1           0              1   \n",
       "\n",
       "     DRUG-ABUSE  ENGLISH  HBA1C  KETO-1YR  MAJOR-DIABETES  MAKES-DECISIONS  \\\n",
       "162           0        1      0         0               0                1   \n",
       "176           0        1      0         0               0                1   \n",
       "189           0        1      1         0               1                1   \n",
       "214           0        0      1         0               0                1   \n",
       "200           0        1      0         0               1                1   \n",
       "\n",
       "     MI-6MOS  \n",
       "162        0  \n",
       "176        0  \n",
       "189        0  \n",
       "214        1  \n",
       "200        0  "
      ]
     },
     "execution_count": 24,
     "metadata": {},
     "output_type": "execute_result"
    }
   ],
   "source": [
    "# Both will be dataframes with a 'notes' column and a column for each label\n",
    "train_data = utils.get_note_data(LABELS, folder_name='train')\n",
    "test_data = utils.get_note_data(LABELS, folder_name='test')\n",
    "\n",
    "train_data.head()"
   ]
  },
  {
   "cell_type": "markdown",
   "metadata": {},
   "source": [
    "### Creating Model"
   ]
  },
  {
   "cell_type": "code",
   "execution_count": 25,
   "metadata": {},
   "outputs": [],
   "source": [
    "from sklearn.linear_model import LogisticRegression\n",
    "\n",
    "models = {}\n",
    "for label in LABELS:\n",
    "    # Define logistic regression model\n",
    "    lr = LogisticRegression()\n",
    "\n",
    "    # Set up X_train y_train\n",
    "    X_train = get_word_embeddings(train_data)\n",
    "    y_train = train_data[label].to_list()\n",
    "\n",
    "    # Train the model\n",
    "    lr.fit(X_train, y_train)\n",
    "\n",
    "    models[label] = lr\n",
    "\n"
   ]
  },
  {
   "cell_type": "markdown",
   "metadata": {},
   "source": [
    "### Getting Predictions"
   ]
  },
  {
   "cell_type": "code",
   "execution_count": 26,
   "metadata": {},
   "outputs": [
    {
     "name": "stdout",
     "output_type": "stream",
     "text": [
      "Predicting for model: ABDOMINAL\n",
      "Predicting for model: ADVANCED-CAD\n",
      "Predicting for model: ALCOHOL-ABUSE\n",
      "Predicting for model: ASP-FOR-MI\n",
      "Predicting for model: CREATININE\n",
      "Predicting for model: DIETSUPP-2MOS\n",
      "Predicting for model: DRUG-ABUSE\n",
      "Predicting for model: ENGLISH\n",
      "Predicting for model: HBA1C\n",
      "Predicting for model: KETO-1YR\n",
      "Predicting for model: MAJOR-DIABETES\n",
      "Predicting for model: MAKES-DECISIONS\n",
      "Predicting for model: MI-6MOS\n"
     ]
    }
   ],
   "source": [
    "label_to_predictions = {}\n",
    "for label, model in models.items():\n",
    "    print(f\"Predicting for model: {label}\")\n",
    "    # Predict\n",
    "    X_test = get_word_embeddings(test_data)\n",
    "    label_to_predictions[label] = model.predict(X_test)"
   ]
  },
  {
   "cell_type": "markdown",
   "metadata": {},
   "source": [
    "Save predictions and load predictions here if wanted."
   ]
  },
  {
   "cell_type": "code",
   "execution_count": 27,
   "metadata": {},
   "outputs": [],
   "source": [
    "utils.save_preds(label_to_predictions, \"LR_predictions\")"
   ]
  },
  {
   "cell_type": "code",
   "execution_count": 28,
   "metadata": {},
   "outputs": [
    {
     "name": "stderr",
     "output_type": "stream",
     "text": [
      "/Users/rahul.muthuswamy/Desktop/Medical-Record-Classifier/utils.py:132: FutureWarning: Series.__getitem__ treating keys as positions is deprecated. In a future version, integer keys will always be treated as labels (consistent with DataFrame behavior). To access a value by position, use `ser.iloc[pos]`\n",
      "  label_to_predictions[row[0]] = list(row[1:])\n"
     ]
    }
   ],
   "source": [
    "label_to_predictions = utils.read_preds(\"LR_predictions\")"
   ]
  },
  {
   "cell_type": "markdown",
   "metadata": {},
   "source": [
    "### Performance:"
   ]
  },
  {
   "cell_type": "code",
   "execution_count": 29,
   "metadata": {},
   "outputs": [
    {
     "name": "stdout",
     "output_type": "stream",
     "text": [
      "Raw f1 for ABDOMINAL 0.5731591125629509\n",
      "Raw f1 for ADVANCED-CAD 0.5717948717948718\n",
      "Raw f1 for ALCOHOL-ABUSE 0.49112426035502965\n",
      "Raw f1 for ASP-FOR-MI 0.5592948717948718\n",
      "Raw f1 for CREATININE 0.6126050420168067\n",
      "Raw f1 for DIETSUPP-2MOS 0.5762237762237762\n",
      "Raw f1 for DRUG-ABUSE 0.49112426035502965\n",
      "Raw f1 for ENGLISH 0.42441860465116277\n",
      "Raw f1 for HBA1C 0.5327777777777778\n",
      "Raw f1 for KETO-1YR 0.5\n",
      "Raw f1 for MAJOR-DIABETES 0.5314465408805031\n",
      "Raw f1 for MAKES-DECISIONS 0.48255813953488375\n",
      "Raw f1 for MI-6MOS 0.47530864197530864\n",
      "overall-f1: 0.5247566076863825\n"
     ]
    }
   ],
   "source": [
    "label_to_micro_f1, overall_f1 = utils.get_f1_scores_for_labels(LABELS, test_data, label_to_predictions)\n",
    "print('overall-f1:', overall_f1)"
   ]
  }
 ],
 "metadata": {
  "kernelspec": {
   "display_name": "base",
   "language": "python",
   "name": "python3"
  },
  "language_info": {
   "codemirror_mode": {
    "name": "ipython",
    "version": 3
   },
   "file_extension": ".py",
   "mimetype": "text/x-python",
   "name": "python",
   "nbconvert_exporter": "python",
   "pygments_lexer": "ipython3",
   "version": "3.11.7"
  }
 },
 "nbformat": 4,
 "nbformat_minor": 2
}
