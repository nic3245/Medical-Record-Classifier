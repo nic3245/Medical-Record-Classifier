{
 "cells": [
  {
   "cell_type": "markdown",
   "metadata": {},
   "source": [
    "# Zero-Shot ChatGPT"
   ]
  },
  {
   "cell_type": "markdown",
   "metadata": {},
   "source": [
    "#### Necessary Imports\n",
    "Please use:  \n",
    "pip install pandas, tensorflow, transformers, numpy, nltk, matplotlib  \n",
    "If you do not have any of the packages"
   ]
  },
  {
   "cell_type": "code",
   "execution_count": 9,
   "metadata": {},
   "outputs": [],
   "source": [
    "import utils\n",
    "from chatGPT_helpers import zero_shot_prompt\n",
    "LABELS = [\"ABDOMINAL\",\n",
    "        \"ADVANCED-CAD\",\n",
    "        \"ALCOHOL-ABUSE\",\n",
    "        \"ASP-FOR-MI\",\n",
    "        \"CREATININE\",\n",
    "        \"DIETSUPP-2MOS\",\n",
    "        \"DRUG-ABUSE\",\n",
    "        \"ENGLISH\",\n",
    "        \"HBA1C\",\n",
    "        \"KETO-1YR\",\n",
    "        \"MAJOR-DIABETES\",\n",
    "        \"MAKES-DECISIONS\",\n",
    "        \"MI-6MOS\"]"
   ]
  },
  {
   "cell_type": "markdown",
   "metadata": {},
   "source": [
    "### Retrieving Data"
   ]
  },
  {
   "cell_type": "code",
   "execution_count": 10,
   "metadata": {},
   "outputs": [],
   "source": [
    "# Both will be dataframes with a 'notes' column and a column for each label\n",
    "train_data = utils.get_note_data(LABELS, folder_name='train')\n",
    "test_data = utils.get_note_data(LABELS, folder_name='test')"
   ]
  },
  {
   "cell_type": "markdown",
   "metadata": {},
   "source": [
    "# Zero Shot"
   ]
  },
  {
   "cell_type": "markdown",
   "metadata": {},
   "source": [
    "No Training needed, so we go right ahead with predicting on test data."
   ]
  },
  {
   "cell_type": "markdown",
   "metadata": {},
   "source": [
    "Code put in markdown so that we don't accidentally run it. If you wish to run it, please ensure you have your own openAI key, then change it back to code."
   ]
  },
  {
   "cell_type": "markdown",
   "metadata": {},
   "source": [
    "```python\n",
    "label_to_predictions = {}\n",
    "for label in LABELS:\n",
    "    predictions = {}\n",
    "    for patient, note in test_data['notes'].items():\n",
    "        pred = zero_shot_prompt(note, label=label)\n",
    "        predictions[patient] = pred\n",
    "    predictions_GPT = list(map(lambda x: 1 if x == \"YES\" else 0, predictions.values()))\n",
    "    label_to_predictions[label] = predictions_GPT\n",
    "```"
   ]
  },
  {
   "cell_type": "markdown",
   "metadata": {},
   "source": [
    "Save predictions and load predictions here if wanted."
   ]
  },
  {
   "cell_type": "markdown",
   "metadata": {},
   "source": [
    "```python \n",
    "utils.save_preds(label_to_predictions, \"zero_shot_predictions\")\n",
    "```"
   ]
  },
  {
   "cell_type": "code",
   "execution_count": 11,
   "metadata": {},
   "outputs": [
    {
     "name": "stderr",
     "output_type": "stream",
     "text": [
      "c:\\Users\\nlabu\\OneDrive - Northeastern University\\Documents\\GitHub\\Final-Project\\utils.py:58: FutureWarning: Series.__getitem__ treating keys as positions is deprecated. In a future version, integer keys will always be treated as labels (consistent with DataFrame behavior). To access a value by position, use `ser.iloc[pos]`\n",
      "  label_to_predictions[row[0]] = list(row[1:])\n"
     ]
    }
   ],
   "source": [
    "label_to_predictions = utils.read_preds(\"zero_shot_predictions\")"
   ]
  },
  {
   "cell_type": "code",
   "execution_count": 12,
   "metadata": {},
   "outputs": [
    {
     "name": "stdout",
     "output_type": "stream",
     "text": [
      "Raw f1 for ABDOMINAL 0.5930210140736456\n",
      "Raw f1 for ADVANCED-CAD 0.7675812046672974\n",
      "Raw f1 for ALCOHOL-ABUSE 0.6507014997581035\n",
      "Raw f1 for ASP-FOR-MI 0.8366197183098592\n",
      "Raw f1 for CREATININE 0.6838433486602188\n",
      "Raw f1 for DIETSUPP-2MOS 0.5924713584288053\n",
      "Raw f1 for DRUG-ABUSE 0.7142857142857143\n",
      "Raw f1 for ENGLISH 0.9077380952380951\n",
      "Raw f1 for HBA1C 0.6832271762208069\n",
      "Raw f1 for KETO-1YR 0.5\n",
      "Raw f1 for MAJOR-DIABETES 0.5770833333333333\n",
      "Raw f1 for MAKES-DECISIONS 0.323653962492438\n",
      "Raw f1 for MI-6MOS 0.5275537634408602\n",
      "overall-f1: 0.642906168377629\n"
     ]
    }
   ],
   "source": [
    "label_to_micro_f1, overall_f1 = utils.get_f1_scores_for_labels(LABELS, test_data, label_to_predictions)\n",
    "print('overall-f1:', overall_f1)"
   ]
  }
 ],
 "metadata": {
  "kernelspec": {
   "display_name": "tfenv",
   "language": "python",
   "name": "python3"
  },
  "language_info": {
   "codemirror_mode": {
    "name": "ipython",
    "version": 3
   },
   "file_extension": ".py",
   "mimetype": "text/x-python",
   "name": "python",
   "nbconvert_exporter": "python",
   "pygments_lexer": "ipython3",
   "version": "3.10.13"
  }
 },
 "nbformat": 4,
 "nbformat_minor": 2
}
